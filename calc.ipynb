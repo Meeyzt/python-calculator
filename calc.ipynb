{
  "nbformat": 4,
  "nbformat_minor": 0,
  "metadata": {
    "colab": {
      "name": "Untitled0.ipynb",
      "provenance": [],
      "collapsed_sections": [],
      "authorship_tag": "ABX9TyNVOJYL2eB5MYGMXe/NHOPs",
      "include_colab_link": true
    },
    "kernelspec": {
      "name": "python3",
      "display_name": "Python 3"
    }
  },
  "cells": [
    {
      "cell_type": "markdown",
      "metadata": {
        "id": "view-in-github",
        "colab_type": "text"
      },
      "source": [
        "<a href=\"https://colab.research.google.com/github/Meeyzt/python-calculator/blob/main/calc.ipynb\" target=\"_parent\"><img src=\"https://colab.research.google.com/assets/colab-badge.svg\" alt=\"Open In Colab\"/></a>"
      ]
    },
    {
      "cell_type": "code",
      "metadata": {
        "colab": {
          "base_uri": "https://localhost:8080/"
        },
        "id": "7FQxtnEEj-ij",
        "outputId": "a7823ef3-3397-4914-9120-2d38ec034600"
      },
      "source": [
        "calc = 0\r\n",
        "value = input(\"Bir metin halinde yapmak istediğiniz işlemi yazınız \"+\" 3 * 5 \")\r\n",
        "string = value.split()\r\n",
        "if string[1] !=\"\"\r\n",
        "  if string[1] == \"+\":\r\n",
        "    calc = int(string[0])+ int(string[2])\r\n",
        "  if string[1] == \"-\":\r\n",
        "    calc = int(string[0])- int(string[2])\r\n",
        "  if string[1] == \"*\":\r\n",
        "    calc = int(string[0])* int(string[2])\r\n",
        "  if string[1] == \"/\":\r\n",
        "    calc = int(string[0])/ int(string[2])\r\n",
        "print(calc)  "
      ],
      "execution_count": 32,
      "outputs": [
        {
          "output_type": "stream",
          "text": [
            "Bir metin halinde yapmak istediğiniz işlemi yazınız  3 * 5 -45646 + 555\n",
            "-45091\n"
          ],
          "name": "stdout"
        }
      ]
    }
  ]
}
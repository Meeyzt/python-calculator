{
  "nbformat": 4,
  "nbformat_minor": 0,
  "metadata": {
    "colab": {
      "name": "Untitled0.ipynb",
      "provenance": [],
      "collapsed_sections": [],
      "authorship_tag": "ABX9TyNVOJYL2eB5MYGMXe/NHOPs",
      "include_colab_link": true
    },
    "kernelspec": {
      "name": "python3",
      "display_name": "Python 3"
    }
  },
  "cells": [
    {
      "cell_type": "markdown",
      "metadata": {
        "id": "view-in-github",
        "colab_type": "text"
      },
      "source": [
        "<a href=\"https://colab.research.google.com/github/Meeyzt/python-calculator/blob/main/calc.ipynb\" target=\"_parent\"><img src=\"https://colab.research.google.com/assets/colab-badge.svg\" alt=\"Open In Colab\"/></a>"
      ]
    },
    {
      "cell_type": "code",
      "metadata": {
        "id": "7FQxtnEEj-ij"
      },
      "source": [
        "calc = 0\r\n",
        "value = input(\"Bir metin halinde yapmak istediğiniz işlemi yazınız \"+\" 3 * 5 \")\r\n",
        "string = value.split()\r\n",
        "if string[1] !=\"\"\r\n",
        "  if string[1] == \"+\":\r\n",
        "    calc = int(string[0])+ int(string[2])\r\n",
        "  if string[1] == \"-\":\r\n",
        "    calc = int(string[0])- int(string[2])\r\n",
        "  if string[1] == \"*\":\r\n",
        "    calc = int(string[0])* int(string[2])\r\n",
        "  if string[1] == \"/\":\r\n",
        "    calc = int(string[0])/ int(string[2])\r\n",
        "print(calc)  "
      ],
      "execution_count": null,
      "outputs": []
    }
  ]
}